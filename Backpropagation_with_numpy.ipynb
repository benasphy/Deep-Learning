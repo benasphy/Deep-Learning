{
  "nbformat": 4,
  "nbformat_minor": 0,
  "metadata": {
    "colab": {
      "provenance": [],
      "authorship_tag": "ABX9TyOglvF9Jqqo+d3LQ9Khkopg",
      "include_colab_link": true
    },
    "kernelspec": {
      "name": "python3",
      "display_name": "Python 3"
    },
    "language_info": {
      "name": "python"
    }
  },
  "cells": [
    {
      "cell_type": "markdown",
      "metadata": {
        "id": "view-in-github",
        "colab_type": "text"
      },
      "source": [
        "<a href=\"https://colab.research.google.com/github/benasphy/Deep-Learning/blob/main/Backpropagation_with_numpy.ipynb\" target=\"_parent\"><img src=\"https://colab.research.google.com/assets/colab-badge.svg\" alt=\"Open In Colab\"/></a>"
      ]
    },
    {
      "cell_type": "code",
      "execution_count": 1,
      "metadata": {
        "id": "_XvEwxfJmTWe"
      },
      "outputs": [],
      "source": [
        "import numpy as np\n"
      ]
    },
    {
      "cell_type": "code",
      "source": [
        "def sigmoid(x):\n",
        "    return 1 / (1 + np.exp(-x))\n",
        "\n",
        "def sigmoid_derivative(x):\n",
        "    return x * (1 - x)  # Derivative of sigmoid\n"
      ],
      "metadata": {
        "id": "QJ0butF2mX5m"
      },
      "execution_count": 2,
      "outputs": []
    },
    {
      "cell_type": "code",
      "source": [
        "# XOR input and output\n",
        "X = np.array([[0, 0], [0, 1], [1, 0], [1, 1]])  # Inputs\n",
        "y = np.array([[0], [1], [1], [0]])  # Expected outputs\n"
      ],
      "metadata": {
        "id": "ZZoSzEt3mdOn"
      },
      "execution_count": 3,
      "outputs": []
    },
    {
      "cell_type": "code",
      "source": [
        "np.random.seed(42)  # For reproducibility\n",
        "\n",
        "# Random initialization of weights (small values)\n",
        "input_size = 2\n",
        "hidden_size = 2\n",
        "output_size = 1\n",
        "\n",
        "W1 = np.random.uniform(-1, 1, (input_size, hidden_size))  # Input -> Hidden weights\n",
        "b1 = np.zeros((1, hidden_size))  # Hidden bias\n",
        "\n",
        "W2 = np.random.uniform(-1, 1, (hidden_size, output_size))  # Hidden -> Output weights\n",
        "b2 = np.zeros((1, output_size))  # Output bias\n"
      ],
      "metadata": {
        "id": "qtT-8aV6mhkT"
      },
      "execution_count": 4,
      "outputs": []
    },
    {
      "cell_type": "code",
      "source": [
        "learning_rate = 0.5\n",
        "epochs = 10000  # Number of training iterations\n",
        "\n",
        "for epoch in range(epochs):\n",
        "    # Forward Pass\n",
        "    hidden_input = np.dot(X, W1) + b1\n",
        "    hidden_output = sigmoid(hidden_input)\n",
        "\n",
        "    final_input = np.dot(hidden_output, W2) + b2\n",
        "    final_output = sigmoid(final_input)\n",
        "\n",
        "    # Compute Loss (Mean Squared Error)\n",
        "    loss = np.mean((y - final_output) ** 2)\n",
        "\n",
        "    # Backpropagation - Compute Gradients\n",
        "    output_error = y - final_output\n",
        "    output_gradient = output_error * sigmoid_derivative(final_output)\n",
        "\n",
        "    hidden_error = np.dot(output_gradient, W2.T)\n",
        "    hidden_gradient = hidden_error * sigmoid_derivative(hidden_output)\n",
        "\n",
        "    # Update Weights and Biases (Gradient Descent Step)\n",
        "    W2 += np.dot(hidden_output.T, output_gradient) * learning_rate\n",
        "    b2 += np.sum(output_gradient, axis=0, keepdims=True) * learning_rate\n",
        "\n",
        "    W1 += np.dot(X.T, hidden_gradient) * learning_rate\n",
        "    b1 += np.sum(hidden_gradient, axis=0, keepdims=True) * learning_rate\n",
        "\n",
        "    # Print progress every 1000 epochs\n",
        "    if epoch % 1000 == 0:\n",
        "        print(f\"Epoch {epoch}, Loss: {loss:.6f}\")\n",
        "\n",
        "# Final Output after Training\n",
        "print(\"Final Predictions:\", final_output.round())\n"
      ],
      "metadata": {
        "colab": {
          "base_uri": "https://localhost:8080/"
        },
        "id": "cxau8OXLmkmx",
        "outputId": "af5a3ef4-7205-486f-c1b6-c17b5350d046"
      },
      "execution_count": 5,
      "outputs": [
        {
          "output_type": "stream",
          "name": "stdout",
          "text": [
            "Epoch 0, Loss: 0.286300\n",
            "Epoch 1000, Loss: 0.242442\n",
            "Epoch 2000, Loss: 0.009823\n",
            "Epoch 3000, Loss: 0.003514\n",
            "Epoch 4000, Loss: 0.002077\n",
            "Epoch 5000, Loss: 0.001460\n",
            "Epoch 6000, Loss: 0.001121\n",
            "Epoch 7000, Loss: 0.000907\n",
            "Epoch 8000, Loss: 0.000761\n",
            "Epoch 9000, Loss: 0.000654\n",
            "Final Predictions: [[0.]\n",
            " [1.]\n",
            " [1.]\n",
            " [0.]]\n"
          ]
        }
      ]
    }
  ]
}